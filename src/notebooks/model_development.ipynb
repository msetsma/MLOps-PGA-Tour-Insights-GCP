{
 "cells": [
  {
   "cell_type": "markdown",
   "id": "c1f91c70-9c73-466b-95f1-d747d08f5d00",
   "metadata": {},
   "source": [
    "# Dataset Column Descriptions\n",
    "\n",
    "- **Player_initial_last**: Initials and last name of the player.\n",
    "- **tournament id**: Unique identifier for each tournament.\n",
    "- **player id**: Unique identifier for each player.\n",
    "- **hole_par**: Par value for the holes in the tournament.\n",
    "- **strokes**: Total strokes taken by the player.\n",
    "- **hole_DKP**: Fantasy scoring metric for DraftKings.\n",
    "- **hole_FDP**: Fantasy scoring metric for FanDuel.\n",
    "- **hole_SDP**: Fantasy scoring metric for a specific fantasy platform.\n",
    "- **streak_DKP**: Bonus points for streaks in DraftKings scoring.\n",
    "- **streak_FDP**: Bonus points for streaks in FanDuel scoring.\n",
    "- **streak_SDP**: Bonus points for streaks in a specific fantasy platform.\n",
    "- **n_rounds**: Number of rounds played in the tournament.\n",
    "- **made_cut**: Indicator of whether the player made the cut (1 = yes, 0 = no).\n",
    "- **pos**: Player's finishing position in the tournament.\n",
    "- **finish_DKP**: Finishing points in DraftKings scoring.\n",
    "- **finish_FDP**: Finishing points in FanDuel scoring.\n",
    "- **finish_SDP**: Finishing points in a specific fantasy platform.\n",
    "- **total_DKP**: Total DraftKings points for the tournament.\n",
    "- **total_FDP**: Total FanDuel points for the tournament.\n",
    "- **total_SDP**: Total points in a specific fantasy platform for the tournament.\n",
    "- **player**: Full name of the player.\n",
    "- **Unnamed: 2**: Placeholder or empty column (removed in preprocessing).\n",
    "- **Unnamed: 3**: Placeholder or empty column (removed in preprocessing).\n",
    "- **Unnamed: 4**: Placeholder or empty column (removed in preprocessing).\n",
    "- **tournament name**: Name of the tournament.\n",
    "- **course**: Name and location of the golf course.\n",
    "- **date**: Date of the tournament.\n",
    "- **purse**: Total prize money for the tournament (in millions).\n",
    "- **season**: PGA Tour season year.\n",
    "- **no_cut**: Indicator of whether the tournament had no cut (1 = yes, 0 = no).\n",
    "- **Finish**: Player’s final result in the tournament (e.g., T1, CUT).\n",
    "- **sg_putt**: Strokes gained through putting.\n",
    "- **sg_arg**: Strokes gained around the green.\n",
    "- **sg_app**: Strokes gained on approach shots.\n",
    "- **sg_ott**: Strokes gained off the tee.\n",
    "- **sg_t2g**: Strokes gained tee to green.\n",
    "- **sg_total**: Total strokes gained across all categories.\n"
   ]
  },
  {
   "cell_type": "code",
   "execution_count": 333,
   "id": "c6817469-6e05-4655-96aa-a0ab8a2b598c",
   "metadata": {},
   "outputs": [],
   "source": [
    "import pandas as pd\n",
    "import numpy as np\n",
    "import matplotlib.pyplot as plt\n",
    "import numpy as np\n",
    "import tensorflow as tf\n",
    "from sklearn.preprocessing import StandardScaler\n",
    "from tensorflow.keras.preprocessing.sequence import pad_sequences"
   ]
  },
  {
   "cell_type": "code",
   "execution_count": 334,
   "id": "49e0eb14-e8fa-4abd-a4df-9cf9989a898d",
   "metadata": {},
   "outputs": [
    {
     "name": "stdout",
     "output_type": "stream",
     "text": [
      "Row count: 36753\n",
      "Data Shape: (36753, 37)\n",
      "Columns: Index(['Player_initial_last', 'tournament id', 'player id', 'hole_par',\n",
      "       'strokes', 'hole_DKP', 'hole_FDP', 'hole_SDP', 'streak_DKP',\n",
      "       'streak_FDP', 'streak_SDP', 'n_rounds', 'made_cut', 'pos', 'finish_DKP',\n",
      "       'finish_FDP', 'finish_SDP', 'total_DKP', 'total_FDP', 'total_SDP',\n",
      "       'player', 'Unnamed: 2', 'Unnamed: 3', 'Unnamed: 4', 'tournament name',\n",
      "       'course', 'date', 'purse', 'season', 'no_cut', 'Finish', 'sg_putt',\n",
      "       'sg_arg', 'sg_app', 'sg_ott', 'sg_t2g', 'sg_total'],\n",
      "      dtype='object')\n",
      "Sample Data:\n",
      "  Player_initial_last  tournament id  player id  hole_par  strokes  hole_DKP  \\\n",
      "0            A. Ancer      401353224       9261       288      289      60.0   \n",
      "1           A. Hadwin      401353224       5548       288      286      72.5   \n",
      "2           A. Lahiri      401353224       4989       144      147      21.5   \n",
      "3             A. Long      401353224       6015       144      151      20.5   \n",
      "4            A. Noren      401353224       3832       144      148      23.5   \n",
      "\n",
      "   hole_FDP  hole_SDP  streak_DKP  streak_FDP  ...  purse  season  no_cut  \\\n",
      "0      51.1        56           3         7.6  ...   12.0    2022       0   \n",
      "1      61.5        61           8        13.0  ...   12.0    2022       0   \n",
      "2      17.4        27           0         0.0  ...   12.0    2022       0   \n",
      "3      13.6        17           0         0.4  ...   12.0    2022       0   \n",
      "4      18.1        23           0         1.2  ...   12.0    2022       0   \n",
      "\n",
      "   Finish  sg_putt  sg_arg  sg_app  sg_ott  sg_t2g  sg_total  \n",
      "0     T32     0.20   -0.13   -0.08    0.86    0.65      0.85  \n",
      "1     T18     0.36    0.75    0.31    0.18    1.24      1.60  \n",
      "2     CUT    -0.56    0.74   -1.09    0.37    0.02     -0.54  \n",
      "3     CUT    -1.46   -1.86   -0.02    0.80   -1.08     -2.54  \n",
      "4     CUT     0.53   -0.36   -1.39    0.19   -1.56     -1.04  \n",
      "\n",
      "[5 rows x 37 columns]\n"
     ]
    },
    {
     "name": "stderr",
     "output_type": "stream",
     "text": [
      "<>:2: SyntaxWarning: invalid escape sequence '\\d'\n",
      "<>:2: SyntaxWarning: invalid escape sequence '\\d'\n",
      "C:\\Users\\2015m\\AppData\\Local\\Temp\\ipykernel_19584\\3193953910.py:2: SyntaxWarning: invalid escape sequence '\\d'\n",
      "  file_path = \"..\\data\\PGA_Raw_Data_2015_2022.csv\"\n"
     ]
    }
   ],
   "source": [
    "# Load the dataset\n",
    "file_path = \"..\\data\\PGA_Raw_Data_2015_2022.csv\"\n",
    "data = pd.read_csv(file_path)\n",
    "\n",
    "# Inspect the data\n",
    "print(\"Row count:\", len(data.index))\n",
    "print(\"Data Shape:\", data.shape)\n",
    "print(\"Columns:\", data.columns)\n",
    "print(\"Sample Data:\")\n",
    "print(data.head())"
   ]
  },
  {
   "cell_type": "code",
   "execution_count": 335,
   "id": "8c9bbab9-43ce-49ee-87ec-f55de6d3bdc4",
   "metadata": {},
   "outputs": [],
   "source": [
    "# get rid of all 'betting' and 'fanstay' data\n",
    "not_needed_columns = ['hole_DKP', 'streak_DKP', 'finish_DKP', 'total_DKP','hole_FDP', \n",
    "                      'streak_FDP', 'finish_FDP', 'total_FDP','hole_SDP', 'streak_SDP', \n",
    "                      'finish_SDP', 'total_SDP']\n",
    "data = data.drop(columns=not_needed_columns, errors='ignore')"
   ]
  },
  {
   "cell_type": "code",
   "execution_count": 336,
   "id": "5e94e784-fa3b-4db2-a241-4518d629228a",
   "metadata": {},
   "outputs": [],
   "source": [
    "# remove redundant columns\n",
    "redundant_columns = ['Finish', 'Player_initial_last']\n",
    "data = data.drop(columns=redundant_columns, errors='ignore')"
   ]
  },
  {
   "cell_type": "code",
   "execution_count": 337,
   "id": "ac4026ea-a60e-47f4-9a1e-fae72d624676",
   "metadata": {},
   "outputs": [],
   "source": [
    "# drop columns that are empty\n",
    "data = data.drop(columns=['Unnamed: 2', 'Unnamed: 3', 'Unnamed: 4'], errors='ignore')"
   ]
  },
  {
   "cell_type": "markdown",
   "id": "dbca3591-5e88-4d24-bc05-af953136928e",
   "metadata": {},
   "source": [
    "# 1. Analyze Data"
   ]
  },
  {
   "cell_type": "code",
   "execution_count": 338,
   "id": "bdfc44d5-fb5a-42c6-b190-606416d88c74",
   "metadata": {},
   "outputs": [
    {
     "name": "stdout",
     "output_type": "stream",
     "text": [
      "Unique Values in Non-Numerical Columns:\n",
      "\n",
      "Column: player\n",
      "Number of unique values: 499\n",
      "player\n",
      "Brian Stuard       211\n",
      "Danny Lee          208\n",
      "Brian Harman       203\n",
      "Robert Streb       197\n",
      "Nick Taylor        193\n",
      "Kevin Streelman    192\n",
      "Tom Hoge           192\n",
      "Tony Finau         192\n",
      "Patrick Reed       191\n",
      "Scott Brown        191\n",
      "Name: count, dtype: int64\n",
      "\n",
      "Column: tournament name\n",
      "Number of unique values: 79\n",
      "tournament name\n",
      "Farmers Insurance Open                 1121\n",
      "AT&T Pebble Beach Pro-Am               1099\n",
      "The Honda Classic                      1061\n",
      "PGA Championship                       1046\n",
      "Shriners Hospital for Children Open    1037\n",
      "RBC Heritage                           1015\n",
      "Sony Open in Hawaii                    1011\n",
      "Waste Management Phoenix Open           990\n",
      "The Players Championship                988\n",
      "Wyndham Championship                    976\n",
      "Name: count, dtype: int64\n",
      "\n",
      "Column: course\n",
      "Number of unique values: 92\n",
      "course\n",
      "Pebble Beach Resort - Pebble Beach, CA              1220\n",
      "Torrey Pines North - La Jolla, CA                   1121\n",
      "La Quinta CC - La Quinta, CA                        1121\n",
      "Muirfield Village Golf Club - Dublin, OH            1077\n",
      "Sea Island Resort - Sea Island, GA                  1072\n",
      "PGA National - Palm Beach Gardens, FL               1061\n",
      "TPC Summerlin - Las Vegas, NV                       1037\n",
      "Harbour Town Golf Links - Hilton Head Island, SC    1015\n",
      "Waialae CC - Honolulu, HI                           1011\n",
      "Riviera Country Club - Pacific Palisades, CA        1011\n",
      "Name: count, dtype: int64\n",
      "\n",
      "Column: date\n",
      "Number of unique values: 319\n",
      "date\n",
      "2021-07-18    253\n",
      "2019-07-21    235\n",
      "2022-03-06    206\n",
      "2017-07-23    187\n",
      "2018-10-28    186\n",
      "2021-02-28    184\n",
      "2020-02-22    180\n",
      "2019-11-03    175\n",
      "2019-02-24    171\n",
      "2017-10-29    162\n",
      "Name: count, dtype: int64\n"
     ]
    }
   ],
   "source": [
    "# Analyzing non-numerical columns\n",
    "non_numerical_columns = data.select_dtypes(exclude=['float64', 'int64']).columns\n",
    "\n",
    "print(\"Unique Values in Non-Numerical Columns:\")\n",
    "for col in non_numerical_columns:\n",
    "    print(f\"\\nColumn: {col}\")\n",
    "    print(f\"Number of unique values: {data[col].nunique()}\")\n",
    "    # top ten\n",
    "    print(data[col].value_counts().head(10))\n"
   ]
  },
  {
   "cell_type": "code",
   "execution_count": 339,
   "id": "1a9be21d-54fc-4880-8f81-855395603b40",
   "metadata": {},
   "outputs": [
    {
     "name": "stdout",
     "output_type": "stream",
     "text": [
      "Missing Values in Numerical Columns:\n",
      "tournament id        0\n",
      "player id            0\n",
      "hole_par             0\n",
      "strokes              0\n",
      "n_rounds             0\n",
      "made_cut             0\n",
      "pos              15498\n",
      "purse                0\n",
      "season               0\n",
      "no_cut               0\n",
      "sg_putt           7573\n",
      "sg_arg            7573\n",
      "sg_app            7573\n",
      "sg_ott            7573\n",
      "sg_t2g            7573\n",
      "sg_total          7572\n",
      "dtype: int64\n",
      "Total Rows with Missing Numerical Data: 20462\n",
      "Percentage of Rows with Missing Numerical Data: 55.67%\n",
      "\n",
      "Strokes Gained Data Missing Values:\n",
      "Total Rows with Missing Strokes Gained Data: 7573\n",
      "Percentage of Rows with Missing Strokes Gained Data: 20.61%\n",
      "\n",
      "Position Data Missing Values:\n",
      "'pos' column has 15498 missing values (42.17% of rows).\n",
      "Distribution of missing 'pos' values by 'made_cut':\n",
      "made_cut\n",
      "0    14228\n",
      "1     1270\n",
      "dtype: int64\n"
     ]
    }
   ],
   "source": [
    "# check missing values\n",
    "numerical_columns = data.select_dtypes(include=['float64', 'int64']).columns\n",
    "missing_values = data[numerical_columns].isnull().sum()\n",
    "missing_row_counts = (data[numerical_columns].isnull().sum(axis=1) > 0).sum()\n",
    "total_rows = data.shape[0]\n",
    "percent_missing_rows = (missing_row_counts / total_rows) * 100\n",
    "\n",
    "# strokes gained data\n",
    "strokes_gained_columns = ['sg_putt', 'sg_arg', 'sg_app', 'sg_ott', 'sg_t2g', 'sg_total']\n",
    "strokes_gained_missing = data[strokes_gained_columns].isnull().sum()\n",
    "strokes_gained_missing_rows = (data[strokes_gained_columns].isnull().sum(axis=1) > 0).sum()\n",
    "strokes_gained_missing_percent = (strokes_gained_missing_rows / total_rows) * 100\n",
    "\n",
    "print(\"Missing Values in Numerical Columns:\")\n",
    "print(missing_values)\n",
    "print(f\"Total Rows with Missing Numerical Data: {missing_row_counts}\")\n",
    "print(f\"Percentage of Rows with Missing Numerical Data: {percent_missing_rows:.2f}%\\n\")\n",
    "\n",
    "print(\"Strokes Gained Data Missing Values:\")\n",
    "print(f\"Total Rows with Missing Strokes Gained Data: {strokes_gained_missing_rows}\")\n",
    "print(f\"Percentage of Rows with Missing Strokes Gained Data: {strokes_gained_missing_percent:.2f}%\\n\")\n",
    "\n",
    "# looking at position as not everyone gets a position (miss the cut line)\n",
    "print(\"Position Data Missing Values:\")\n",
    "pos_missing_count = data['pos'].isnull().sum()\n",
    "pos_missing_percent = (pos_missing_count / total_rows) * 100\n",
    "print(f\"'pos' column has {pos_missing_count} missing values ({pos_missing_percent:.2f}% of rows).\")\n",
    "pos_missing_analysis = data[data['pos'].isnull()].groupby('made_cut').size()\n",
    "print(\"Distribution of missing 'pos' values by 'made_cut':\")\n",
    "print(pos_missing_analysis)"
   ]
  },
  {
   "cell_type": "code",
   "execution_count": 340,
   "id": "f74fbf0d-c33d-4c6e-9174-b8a9696c48e8",
   "metadata": {},
   "outputs": [],
   "source": [
    "# for those that dont make the cut we are giving them a value of the field size plus 1\n",
    "data['field_size'] = data.groupby('tournament id')['pos'].transform('count')\n",
    "data.loc[data['pos'].isnull(), 'pos'] = data['field_size'] + 1\n",
    "\n",
    "# some models tend to do better with normalization of data\n",
    "data['pos_normalized'] = data.groupby('tournament id')['pos'].transform(lambda x: x / x.max())\n",
    "\n",
    "# drop all the data without strokes gained as it is very low and strokes gained should be important to the model\n",
    "data = data.dropna(subset=strokes_gained_columns)"
   ]
  },
  {
   "cell_type": "code",
   "execution_count": 341,
   "id": "a9e450ee-7f9e-4df8-a417-4ad2689408eb",
   "metadata": {},
   "outputs": [
    {
     "name": "stdout",
     "output_type": "stream",
     "text": [
      "Rows before filtering: 29180\n",
      "Rows after filtering: 29176\n",
      "Max position in data: 91.0\n"
     ]
    }
   ],
   "source": [
    "# there are some odd values in the pos results, lets make sure they are removed\n",
    "print(f\"Rows before filtering: {len(data)}\")\n",
    "data = data[data['pos'] <= 150]\n",
    "print(f\"Rows after filtering: {len(data)}\")\n",
    "print(f\"Max position in data: {data['pos'].max()}\")"
   ]
  },
  {
   "cell_type": "code",
   "execution_count": 342,
   "id": "b7e36068-90d1-4a05-b64a-0e5c00afea6f",
   "metadata": {},
   "outputs": [
    {
     "data": {
      "image/png": "[encoded data removed]",
      "text/plain": [
       "<Figure size 500x300 with 1 Axes>"
      ]
     },
     "metadata": {},
     "output_type": "display_data"
    }
   ],
   "source": [
    "# plot the new normalized positions\n",
    "plt.figure(figsize=(5, 3))\n",
    "plt.hist(data['pos_normalized'], bins=50, color='blue', alpha=0.7, edgecolor='black')\n",
    "plt.title('Distribution')\n",
    "plt.xlabel('Normalized Position')\n",
    "plt.ylabel('Frequency')\n",
    "plt.grid(axis='y', linestyle='--', alpha=0.7)\n",
    "plt.show()"
   ]
  },
  {
   "cell_type": "markdown",
   "id": "aac49c41-9c10-4c59-995b-d07987b7e5a1",
   "metadata": {},
   "source": [
    "# 2. Sort the data"
   ]
  },
  {
   "cell_type": "code",
   "execution_count": 343,
   "id": "d147d824-a9ab-4408-9f7c-c45276f6ca6a",
   "metadata": {},
   "outputs": [],
   "source": [
    "# Convert the date column to datetime format if not already\n",
    "data['date'] = pd.to_datetime(data['date'])\n",
    "\n",
    "# Sort by player ID and date\n",
    "data.sort_values(by=['player id', 'date'], inplace=True)"
   ]
  },
  {
   "cell_type": "markdown",
   "id": "773b844e-cb64-43c0-b498-570ea3f304d3",
   "metadata": {},
   "source": [
    "# 3. Feature Engineering"
   ]
  },
  {
   "cell_type": "code",
   "execution_count": 344,
   "id": "3d34d8c2-3e3e-4b73-96ab-0b4c9707c1d9",
   "metadata": {},
   "outputs": [],
   "source": [
    "# drop rows where n_rounds or strokes are NaN or 0\n",
    "data = data.dropna(subset=['n_rounds', 'strokes'])  \n",
    "data = data[(data['n_rounds'] > 0) & (data['strokes'] > 0)]\n",
    "\n",
    "# Create avg_strokes_per_round\n",
    "data['avg_strokes_per_round'] = data['strokes'] / data['n_rounds']\n",
    "\n",
    "# Drop redundant columns\n",
    "data = data.drop(columns=['strokes', 'n_rounds'])"
   ]
  },
  {
   "cell_type": "code",
   "execution_count": 345,
   "id": "dab578d5-6218-44d0-b7ca-953201d5b14a",
   "metadata": {},
   "outputs": [],
   "source": [
    "rolling_strokes_gained = ['sg_putt', 'sg_arg', 'sg_app', 'sg_ott', 'sg_t2g', 'sg_total']\n",
    "for metric in rolling_strokes_gained:\n",
    "    data[f'{metric}_rolling_mean'] = data.groupby('player id')[metric].transform(lambda x: x.rolling(window=3, min_periods=1).mean())"
   ]
  },
  {
   "cell_type": "code",
   "execution_count": 346,
   "id": "d774b80f-3dde-4d2b-bda6-2c2f1b97860c",
   "metadata": {},
   "outputs": [],
   "source": [
    "# lets drop the data that we do not need for training\n",
    "features_to_drop = ['tournament id','hole_par','player','tournament name','course','season','purse','no_cut', 'field_size']\n",
    "data = data.drop(columns=features_to_drop, errors='ignore')"
   ]
  },
  {
   "cell_type": "code",
   "execution_count": 347,
   "id": "6c2ce20a-c342-45f9-a485-eacd5738a704",
   "metadata": {},
   "outputs": [],
   "source": [
    "# lets normalize our data the best we can \n",
    "scaler = StandardScaler()\n",
    "scaled_columns = ['sg_putt', 'sg_arg', 'sg_app', 'sg_ott', 'sg_t2g', 'sg_total',\n",
    "       'pos_normalized', 'sg_putt_rolling_mean',\n",
    "       'sg_arg_rolling_mean', 'sg_app_rolling_mean', 'sg_ott_rolling_mean',\n",
    "       'sg_t2g_rolling_mean', 'sg_total_rolling_mean']\n",
    "data[scaled_columns] = scaler.fit_transform(data[scaled_columns])"
   ]
  },
  {
   "cell_type": "code",
   "execution_count": 348,
   "id": "3601a6d7-8944-4c2f-9873-f42dd3f27fbc",
   "metadata": {
    "scrolled": true
   },
   "outputs": [
    {
     "name": "stdout",
     "output_type": "stream",
     "text": [
      "Summary of Preprocessed Data:\n",
      "Shape: (29176, 18)\n",
      "Columns:\n",
      "Index(['player id', 'made_cut', 'pos', 'date', 'sg_putt', 'sg_arg', 'sg_app',\n",
      "       'sg_ott', 'sg_t2g', 'sg_total', 'pos_normalized',\n",
      "       'avg_strokes_per_round', 'sg_putt_rolling_mean', 'sg_arg_rolling_mean',\n",
      "       'sg_app_rolling_mean', 'sg_ott_rolling_mean', 'sg_t2g_rolling_mean',\n",
      "       'sg_total_rolling_mean'],\n",
      "      dtype='object')\n",
      "Sample Rows:\n",
      "       player id  made_cut   pos       date   sg_putt    sg_arg    sg_app  \\\n",
      "36718          5         0  69.0 2014-10-19 -1.169243  1.568545 -0.239523   \n",
      "36165          5         0  71.0 2015-01-18 -2.116144 -0.603885  0.376663   \n",
      "35940          5         0  68.0 2015-02-01  0.626297  0.234838  0.260570   \n",
      "35830          5         0  63.0 2015-02-08 -0.731524 -1.222616  1.492943   \n",
      "35474          5         1  51.0 2015-03-02 -1.124577  0.138591  1.439362   \n",
      "\n",
      "         sg_ott    sg_t2g  sg_total  pos_normalized  avg_strokes_per_round  \\\n",
      "36718 -0.871339  0.102622 -0.581844        0.587446                   71.5   \n",
      "36165  0.762091  0.370776 -0.902186        0.503160                   71.0   \n",
      "35940 -1.861296 -0.628709 -0.169977        0.651212                   72.0   \n",
      "35830 -1.217824 -0.128966 -0.525912        0.521445                   72.5   \n",
      "35474 -0.054624  1.010690  0.196128        0.154205                   71.5   \n",
      "\n",
      "       sg_putt_rolling_mean  sg_arg_rolling_mean  sg_app_rolling_mean  \\\n",
      "36718             -1.867872             2.486807            -0.375867   \n",
      "36165             -2.623935             0.764420             0.099105   \n",
      "35940             -1.416136             0.633606             0.197770   \n",
      "35830             -1.183135            -0.841687             1.088055   \n",
      "35474             -0.655317            -0.449245             1.634157   \n",
      "\n",
      "       sg_ott_rolling_mean  sg_t2g_rolling_mean  sg_total_rolling_mean  \n",
      "36718            -1.231217             0.140190              -0.870074  \n",
      "36165            -0.084566             0.334302              -1.107595  \n",
      "35940            -0.930076            -0.083332              -0.824832  \n",
      "35830            -1.092229            -0.195093              -0.797185  \n",
      "35474            -1.474446             0.113721              -0.254280  \n",
      "Missing Values Per Column:\n",
      "player id                0\n",
      "made_cut                 0\n",
      "pos                      0\n",
      "date                     0\n",
      "sg_putt                  0\n",
      "sg_arg                   0\n",
      "sg_app                   0\n",
      "sg_ott                   0\n",
      "sg_t2g                   0\n",
      "sg_total                 0\n",
      "pos_normalized           0\n",
      "avg_strokes_per_round    0\n",
      "sg_putt_rolling_mean     0\n",
      "sg_arg_rolling_mean      0\n",
      "sg_app_rolling_mean      0\n",
      "sg_ott_rolling_mean      0\n",
      "sg_t2g_rolling_mean      0\n",
      "sg_total_rolling_mean    0\n",
      "dtype: int64\n"
     ]
    }
   ],
   "source": [
    "# summary of our work\n",
    "print(\"Summary of Preprocessed Data:\")\n",
    "print(f\"Shape: {data.shape}\")\n",
    "print(\"Columns:\")\n",
    "print(data.columns)\n",
    "print(\"Sample Rows:\")\n",
    "print(data.head())\n",
    "print(\"Missing Values Per Column:\")\n",
    "print(data.isnull().sum())"
   ]
  },
  {
   "cell_type": "markdown",
   "id": "b7625da5-dbf3-4fc9-9739-c9011455e64f",
   "metadata": {},
   "source": [
    "# 4. Split the data"
   ]
  },
  {
   "cell_type": "code",
   "execution_count": 349,
   "id": "58e4100b-fc0f-460e-95d7-3fb41b8b26a0",
   "metadata": {},
   "outputs": [],
   "source": [
    "# lets just make srue we have the correct ordering\n",
    "data.sort_values(by=['player id', 'date'], inplace=True)"
   ]
  },
  {
   "cell_type": "code",
   "execution_count": 350,
   "id": "4dbdf068-0253-42c2-bdb5-d04df3c502d1",
   "metadata": {},
   "outputs": [],
   "source": [
    "latest_tournament_mask = data.groupby('player id')['date'].transform('max') == data['date']\n",
    "train_data = data[~latest_tournament_mask]\n",
    "test_data = data[latest_tournament_mask]"
   ]
  },
  {
   "cell_type": "markdown",
   "id": "cc17f878-3769-47a9-954a-577f9496a019",
   "metadata": {},
   "source": [
    "# Model Development\n",
    "After doing a bit of research on models that are best for time series of data RNN or LSTMs seem best\n",
    "BUT.... they require sequences of data. So grouping of tournaments are required. This creates a problem since players have different lengths of sequences."
   ]
  },
  {
   "cell_type": "code",
   "execution_count": 383,
   "id": "9a017957-8e4c-4c69-bad9-a7b833c00a13",
   "metadata": {},
   "outputs": [],
   "source": [
    "def create_sequences(data, sequence_length, features, target):\n",
    "    sequences = []\n",
    "    targets = []\n",
    "    for player_id, group in data.groupby('player id'):\n",
    "        group = group.sort_values(by='date')\n",
    "        player_data = group[features].values\n",
    "        player_target = group[target].values\n",
    "        for i in range(len(player_data) - sequence_length + 1):\n",
    "            sequences.append(player_data[i:i+sequence_length])\n",
    "            targets.append(player_target[i+sequence_length-1])\n",
    "    return np.array(sequences), np.array(targets)\n",
    "\n",
    "# Features and target\n",
    "features = ['made_cut', 'sg_putt', 'sg_arg', 'sg_app','sg_ott', \n",
    "            'sg_t2g', 'sg_total', 'pos_normalized', 'avg_strokes_per_round', \n",
    "            'sg_putt_rolling_mean', 'sg_arg_rolling_mean','sg_app_rolling_mean', \n",
    "            'sg_ott_rolling_mean', 'sg_t2g_rolling_mean','sg_total_rolling_mean']\n",
    "\n",
    "target = 'pos'\n",
    "\n",
    "# sequences\n",
    "sequence_length = 5\n",
    "X, y = create_sequences(data, sequence_length, features, target)"
   ]
  },
  {
   "cell_type": "code",
   "execution_count": 384,
   "id": "a3d6a4a9-8af3-40c3-800b-19971563330c",
   "metadata": {},
   "outputs": [],
   "source": [
    "# now we need to pad the shorter histories using keras\n",
    "X_padded = pad_sequences(X, maxlen=sequence_length, padding='pre', dtype='float32', value=0.0)"
   ]
  },
  {
   "cell_type": "code",
   "execution_count": 385,
   "id": "21bc69f6-ee9f-4c9f-a1a9-b891ae3bab42",
   "metadata": {},
   "outputs": [],
   "source": [
    "# as a NON ml engineer I am starting to leave my comfort zone\n",
    "# tensorflow has a decent guide here - https://www.tensorflow.org/guide/keras/understanding_masking_and_padding\n",
    "import keras_tuner as kt\n",
    "from tensorflow.keras.models import Sequential\n",
    "from tensorflow.keras.layers import LSTM, Dense, Dropout, Masking, Input\n",
    "\n",
    "def weighted_mse(y_true, y_pred):\n",
    "    weights = tf.where(y_true <= 10, 2.0, 1.0)  # Double the weight for good golfers\n",
    "    return tf.reduce_mean(weights * tf.square(y_true - y_pred))"
   ]
  },
  {
   "cell_type": "code",
   "execution_count": 386,
   "id": "98a0ace7-bfb3-4f3d-bb2e-ad256d68b094",
   "metadata": {},
   "outputs": [
    {
     "name": "stdout",
     "output_type": "stream",
     "text": [
      "Epoch 1/50\n",
      "\u001b[1m675/675\u001b[0m \u001b[32m━━━━━━━━━━━━━━━━━━━━\u001b[0m\u001b[37m\u001b[0m \u001b[1m2s\u001b[0m 2ms/step - loss: 1987.4077 - mae: 38.2875 - val_loss: 753.5986 - val_mae: 23.2947\n",
      "Epoch 2/50\n",
      "\u001b[1m675/675\u001b[0m \u001b[32m━━━━━━━━━━━━━━━━━━━━\u001b[0m\u001b[37m\u001b[0m \u001b[1m1s\u001b[0m 2ms/step - loss: 588.1478 - mae: 20.1116 - val_loss: 205.8762 - val_mae: 10.1366\n",
      "Epoch 3/50\n",
      "\u001b[1m675/675\u001b[0m \u001b[32m━━━━━━━━━━━━━━━━━━━━\u001b[0m\u001b[37m\u001b[0m \u001b[1m1s\u001b[0m 2ms/step - loss: 190.4912 - mae: 9.2018 - val_loss: 136.1811 - val_mae: 6.2616\n",
      "Epoch 4/50\n",
      "\u001b[1m675/675\u001b[0m \u001b[32m━━━━━━━━━━━━━━━━━━━━\u001b[0m\u001b[37m\u001b[0m \u001b[1m1s\u001b[0m 2ms/step - loss: 161.0399 - mae: 6.8740 - val_loss: 125.6636 - val_mae: 5.3080\n",
      "Epoch 5/50\n",
      "\u001b[1m675/675\u001b[0m \u001b[32m━━━━━━━━━━━━━━━━━━━━\u001b[0m\u001b[37m\u001b[0m \u001b[1m1s\u001b[0m 2ms/step - loss: 150.0582 - mae: 6.3813 - val_loss: 122.5065 - val_mae: 5.0121\n",
      "Epoch 6/50\n",
      "\u001b[1m675/675\u001b[0m \u001b[32m━━━━━━━━━━━━━━━━━━━━\u001b[0m\u001b[37m\u001b[0m \u001b[1m1s\u001b[0m 2ms/step - loss: 142.9676 - mae: 6.1133 - val_loss: 120.8896 - val_mae: 5.1028\n",
      "Epoch 7/50\n",
      "\u001b[1m675/675\u001b[0m \u001b[32m━━━━━━━━━━━━━━━━━━━━\u001b[0m\u001b[37m\u001b[0m \u001b[1m1s\u001b[0m 2ms/step - loss: 120.8201 - mae: 5.8383 - val_loss: 123.5986 - val_mae: 5.4583\n",
      "Epoch 8/50\n",
      "\u001b[1m675/675\u001b[0m \u001b[32m━━━━━━━━━━━━━━━━━━━━\u001b[0m\u001b[37m\u001b[0m \u001b[1m1s\u001b[0m 2ms/step - loss: 138.9135 - mae: 5.9935 - val_loss: 124.5411 - val_mae: 5.2707\n",
      "Epoch 9/50\n",
      "\u001b[1m675/675\u001b[0m \u001b[32m━━━━━━━━━━━━━━━━━━━━\u001b[0m\u001b[37m\u001b[0m \u001b[1m1s\u001b[0m 2ms/step - loss: 125.8467 - mae: 5.8394 - val_loss: 118.7100 - val_mae: 4.9015\n",
      "Epoch 10/50\n",
      "\u001b[1m675/675\u001b[0m \u001b[32m━━━━━━━━━━━━━━━━━━━━\u001b[0m\u001b[37m\u001b[0m \u001b[1m1s\u001b[0m 2ms/step - loss: 132.0668 - mae: 5.8680 - val_loss: 118.1622 - val_mae: 4.9487\n",
      "Epoch 11/50\n",
      "\u001b[1m675/675\u001b[0m \u001b[32m━━━━━━━━━━━━━━━━━━━━\u001b[0m\u001b[37m\u001b[0m \u001b[1m1s\u001b[0m 2ms/step - loss: 133.3608 - mae: 5.8744 - val_loss: 118.8550 - val_mae: 5.0109\n",
      "Epoch 12/50\n",
      "\u001b[1m675/675\u001b[0m \u001b[32m━━━━━━━━━━━━━━━━━━━━\u001b[0m\u001b[37m\u001b[0m \u001b[1m1s\u001b[0m 2ms/step - loss: 137.5027 - mae: 5.8971 - val_loss: 116.3304 - val_mae: 4.8437\n",
      "Epoch 13/50\n",
      "\u001b[1m675/675\u001b[0m \u001b[32m━━━━━━━━━━━━━━━━━━━━\u001b[0m\u001b[37m\u001b[0m \u001b[1m1s\u001b[0m 2ms/step - loss: 138.8926 - mae: 5.9267 - val_loss: 117.3923 - val_mae: 4.8527\n",
      "Epoch 14/50\n",
      "\u001b[1m675/675\u001b[0m \u001b[32m━━━━━━━━━━━━━━━━━━━━\u001b[0m\u001b[37m\u001b[0m \u001b[1m1s\u001b[0m 2ms/step - loss: 135.1027 - mae: 5.8183 - val_loss: 117.9048 - val_mae: 5.1032\n",
      "Epoch 15/50\n",
      "\u001b[1m675/675\u001b[0m \u001b[32m━━━━━━━━━━━━━━━━━━━━\u001b[0m\u001b[37m\u001b[0m \u001b[1m1s\u001b[0m 2ms/step - loss: 140.5713 - mae: 5.9230 - val_loss: 116.4057 - val_mae: 4.8437\n",
      "Epoch 16/50\n",
      "\u001b[1m675/675\u001b[0m \u001b[32m━━━━━━━━━━━━━━━━━━━━\u001b[0m\u001b[37m\u001b[0m \u001b[1m1s\u001b[0m 2ms/step - loss: 140.5465 - mae: 5.8879 - val_loss: 118.5884 - val_mae: 5.2387\n",
      "Epoch 17/50\n",
      "\u001b[1m675/675\u001b[0m \u001b[32m━━━━━━━━━━━━━━━━━━━━\u001b[0m\u001b[37m\u001b[0m \u001b[1m1s\u001b[0m 2ms/step - loss: 117.5397 - mae: 5.6234 - val_loss: 115.8483 - val_mae: 4.9103\n",
      "Epoch 18/50\n",
      "\u001b[1m675/675\u001b[0m \u001b[32m━━━━━━━━━━━━━━━━━━━━\u001b[0m\u001b[37m\u001b[0m \u001b[1m1s\u001b[0m 2ms/step - loss: 133.0817 - mae: 5.9992 - val_loss: 115.4779 - val_mae: 4.8145\n",
      "Epoch 19/50\n",
      "\u001b[1m675/675\u001b[0m \u001b[32m━━━━━━━━━━━━━━━━━━━━\u001b[0m\u001b[37m\u001b[0m \u001b[1m1s\u001b[0m 2ms/step - loss: 133.0837 - mae: 5.7658 - val_loss: 114.0538 - val_mae: 4.7257\n",
      "Epoch 20/50\n",
      "\u001b[1m675/675\u001b[0m \u001b[32m━━━━━━━━━━━━━━━━━━━━\u001b[0m\u001b[37m\u001b[0m \u001b[1m1s\u001b[0m 2ms/step - loss: 122.6195 - mae: 5.6282 - val_loss: 115.0414 - val_mae: 4.9213\n",
      "Epoch 21/50\n",
      "\u001b[1m675/675\u001b[0m \u001b[32m━━━━━━━━━━━━━━━━━━━━\u001b[0m\u001b[37m\u001b[0m \u001b[1m1s\u001b[0m 2ms/step - loss: 130.3133 - mae: 5.7421 - val_loss: 115.5115 - val_mae: 4.8525\n",
      "Epoch 22/50\n",
      "\u001b[1m675/675\u001b[0m \u001b[32m━━━━━━━━━━━━━━━━━━━━\u001b[0m\u001b[37m\u001b[0m \u001b[1m1s\u001b[0m 2ms/step - loss: 130.7957 - mae: 5.8102 - val_loss: 115.8002 - val_mae: 5.0977\n",
      "Epoch 23/50\n",
      "\u001b[1m675/675\u001b[0m \u001b[32m━━━━━━━━━━━━━━━━━━━━\u001b[0m\u001b[37m\u001b[0m \u001b[1m1s\u001b[0m 2ms/step - loss: 130.9568 - mae: 5.8317 - val_loss: 113.9386 - val_mae: 4.7377\n",
      "Epoch 24/50\n",
      "\u001b[1m675/675\u001b[0m \u001b[32m━━━━━━━━━━━━━━━━━━━━\u001b[0m\u001b[37m\u001b[0m \u001b[1m2s\u001b[0m 2ms/step - loss: 130.5486 - mae: 5.7654 - val_loss: 113.6355 - val_mae: 4.6704\n",
      "Epoch 25/50\n",
      "\u001b[1m675/675\u001b[0m \u001b[32m━━━━━━━━━━━━━━━━━━━━\u001b[0m\u001b[37m\u001b[0m \u001b[1m2s\u001b[0m 2ms/step - loss: 131.7780 - mae: 5.7784 - val_loss: 113.5446 - val_mae: 4.6580\n",
      "Epoch 26/50\n",
      "\u001b[1m675/675\u001b[0m \u001b[32m━━━━━━━━━━━━━━━━━━━━\u001b[0m\u001b[37m\u001b[0m \u001b[1m1s\u001b[0m 2ms/step - loss: 120.8180 - mae: 5.6674 - val_loss: 115.2913 - val_mae: 4.9951\n",
      "Epoch 27/50\n",
      "\u001b[1m675/675\u001b[0m \u001b[32m━━━━━━━━━━━━━━━━━━━━\u001b[0m\u001b[37m\u001b[0m \u001b[1m1s\u001b[0m 2ms/step - loss: 122.4376 - mae: 5.6297 - val_loss: 112.9114 - val_mae: 4.7105\n",
      "Epoch 28/50\n",
      "\u001b[1m675/675\u001b[0m \u001b[32m━━━━━━━━━━━━━━━━━━━━\u001b[0m\u001b[37m\u001b[0m \u001b[1m1s\u001b[0m 2ms/step - loss: 134.4834 - mae: 5.8163 - val_loss: 113.1680 - val_mae: 4.6640\n",
      "Epoch 29/50\n",
      "\u001b[1m675/675\u001b[0m \u001b[32m━━━━━━━━━━━━━━━━━━━━\u001b[0m\u001b[37m\u001b[0m \u001b[1m1s\u001b[0m 2ms/step - loss: 127.0361 - mae: 5.6756 - val_loss: 113.2767 - val_mae: 4.7692\n",
      "Epoch 30/50\n",
      "\u001b[1m675/675\u001b[0m \u001b[32m━━━━━━━━━━━━━━━━━━━━\u001b[0m\u001b[37m\u001b[0m \u001b[1m1s\u001b[0m 2ms/step - loss: 128.1083 - mae: 5.7085 - val_loss: 112.2212 - val_mae: 4.6608\n",
      "Epoch 31/50\n",
      "\u001b[1m675/675\u001b[0m \u001b[32m━━━━━━━━━━━━━━━━━━━━\u001b[0m\u001b[37m\u001b[0m \u001b[1m1s\u001b[0m 2ms/step - loss: 130.6756 - mae: 5.7048 - val_loss: 112.9533 - val_mae: 4.7698\n",
      "Epoch 32/50\n",
      "\u001b[1m675/675\u001b[0m \u001b[32m━━━━━━━━━━━━━━━━━━━━\u001b[0m\u001b[37m\u001b[0m \u001b[1m1s\u001b[0m 2ms/step - loss: 125.1346 - mae: 5.7320 - val_loss: 112.7789 - val_mae: 4.5971\n",
      "Epoch 33/50\n",
      "\u001b[1m675/675\u001b[0m \u001b[32m━━━━━━━━━━━━━━━━━━━━\u001b[0m\u001b[37m\u001b[0m \u001b[1m1s\u001b[0m 2ms/step - loss: 130.5659 - mae: 5.7166 - val_loss: 113.6504 - val_mae: 4.9188\n",
      "Epoch 34/50\n",
      "\u001b[1m675/675\u001b[0m \u001b[32m━━━━━━━━━━━━━━━━━━━━\u001b[0m\u001b[37m\u001b[0m \u001b[1m1s\u001b[0m 2ms/step - loss: 119.6912 - mae: 5.5651 - val_loss: 114.6959 - val_mae: 5.0525\n",
      "Epoch 35/50\n",
      "\u001b[1m675/675\u001b[0m \u001b[32m━━━━━━━━━━━━━━━━━━━━\u001b[0m\u001b[37m\u001b[0m \u001b[1m1s\u001b[0m 2ms/step - loss: 129.3643 - mae: 5.7065 - val_loss: 112.3332 - val_mae: 4.6661\n",
      "Epoch 36/50\n",
      "\u001b[1m675/675\u001b[0m \u001b[32m━━━━━━━━━━━━━━━━━━━━\u001b[0m\u001b[37m\u001b[0m \u001b[1m1s\u001b[0m 2ms/step - loss: 127.0442 - mae: 5.6557 - val_loss: 112.4544 - val_mae: 4.6835\n",
      "Epoch 37/50\n",
      "\u001b[1m675/675\u001b[0m \u001b[32m━━━━━━━━━━━━━━━━━━━━\u001b[0m\u001b[37m\u001b[0m \u001b[1m1s\u001b[0m 2ms/step - loss: 124.4008 - mae: 5.6633 - val_loss: 112.0278 - val_mae: 4.7325\n",
      "Epoch 38/50\n",
      "\u001b[1m675/675\u001b[0m \u001b[32m━━━━━━━━━━━━━━━━━━━━\u001b[0m\u001b[37m\u001b[0m \u001b[1m1s\u001b[0m 2ms/step - loss: 125.7503 - mae: 5.6742 - val_loss: 111.3628 - val_mae: 4.5968\n",
      "Epoch 39/50\n",
      "\u001b[1m675/675\u001b[0m \u001b[32m━━━━━━━━━━━━━━━━━━━━\u001b[0m\u001b[37m\u001b[0m \u001b[1m1s\u001b[0m 2ms/step - loss: 121.9705 - mae: 5.5864 - val_loss: 111.1723 - val_mae: 4.6536\n",
      "Epoch 40/50\n",
      "\u001b[1m675/675\u001b[0m \u001b[32m━━━━━━━━━━━━━━━━━━━━\u001b[0m\u001b[37m\u001b[0m \u001b[1m1s\u001b[0m 2ms/step - loss: 121.5448 - mae: 5.6550 - val_loss: 113.8799 - val_mae: 5.0035\n",
      "Epoch 41/50\n",
      "\u001b[1m675/675\u001b[0m \u001b[32m━━━━━━━━━━━━━━━━━━━━\u001b[0m\u001b[37m\u001b[0m \u001b[1m1s\u001b[0m 2ms/step - loss: 142.2135 - mae: 5.9294 - val_loss: 111.4316 - val_mae: 4.6521\n",
      "Epoch 42/50\n",
      "\u001b[1m675/675\u001b[0m \u001b[32m━━━━━━━━━━━━━━━━━━━━\u001b[0m\u001b[37m\u001b[0m \u001b[1m1s\u001b[0m 2ms/step - loss: 117.3169 - mae: 5.5791 - val_loss: 110.5696 - val_mae: 4.5777\n",
      "Epoch 43/50\n",
      "\u001b[1m675/675\u001b[0m \u001b[32m━━━━━━━━━━━━━━━━━━━━\u001b[0m\u001b[37m\u001b[0m \u001b[1m1s\u001b[0m 2ms/step - loss: 118.6890 - mae: 5.5883 - val_loss: 111.0076 - val_mae: 4.5560\n",
      "Epoch 44/50\n",
      "\u001b[1m675/675\u001b[0m \u001b[32m━━━━━━━━━━━━━━━━━━━━\u001b[0m\u001b[37m\u001b[0m \u001b[1m1s\u001b[0m 2ms/step - loss: 123.6735 - mae: 5.6263 - val_loss: 116.6777 - val_mae: 5.3879\n",
      "Epoch 45/50\n",
      "\u001b[1m675/675\u001b[0m \u001b[32m━━━━━━━━━━━━━━━━━━━━\u001b[0m\u001b[37m\u001b[0m \u001b[1m1s\u001b[0m 2ms/step - loss: 121.1779 - mae: 5.6026 - val_loss: 111.3648 - val_mae: 4.8243\n",
      "Epoch 46/50\n",
      "\u001b[1m675/675\u001b[0m \u001b[32m━━━━━━━━━━━━━━━━━━━━\u001b[0m\u001b[37m\u001b[0m \u001b[1m2s\u001b[0m 2ms/step - loss: 129.6980 - mae: 5.6879 - val_loss: 111.0069 - val_mae: 4.5558\n",
      "Epoch 47/50\n",
      "\u001b[1m675/675\u001b[0m \u001b[32m━━━━━━━━━━━━━━━━━━━━\u001b[0m\u001b[37m\u001b[0m \u001b[1m1s\u001b[0m 2ms/step - loss: 121.3619 - mae: 5.6598 - val_loss: 110.7909 - val_mae: 4.7842\n",
      "Epoch 48/50\n",
      "\u001b[1m675/675\u001b[0m \u001b[32m━━━━━━━━━━━━━━━━━━━━\u001b[0m\u001b[37m\u001b[0m \u001b[1m1s\u001b[0m 2ms/step - loss: 115.4675 - mae: 5.5802 - val_loss: 113.5914 - val_mae: 5.2083\n",
      "Epoch 49/50\n",
      "\u001b[1m675/675\u001b[0m \u001b[32m━━━━━━━━━━━━━━━━━━━━\u001b[0m\u001b[37m\u001b[0m \u001b[1m1s\u001b[0m 2ms/step - loss: 125.7082 - mae: 5.6710 - val_loss: 110.1660 - val_mae: 4.7291\n",
      "Epoch 50/50\n",
      "\u001b[1m675/675\u001b[0m \u001b[32m━━━━━━━━━━━━━━━━━━━━\u001b[0m\u001b[37m\u001b[0m \u001b[1m1s\u001b[0m 2ms/step - loss: 122.9791 - mae: 5.6700 - val_loss: 113.0930 - val_mae: 4.9612\n"
     ]
    }
   ],
   "source": [
    "# Build the model\n",
    "model = Sequential([\n",
    "    Input(shape=(sequence_length, len(features))),\n",
    "    Masking(mask_value=0.0),\n",
    "    LSTM(units=64, return_sequences=False),\n",
    "    Dropout(0.2),\n",
    "    Dense(1, activation='linear')\n",
    "])\n",
    "\n",
    "model.compile(\n",
    "    optimizer='adam',\n",
    "    loss=weighted_mse,\n",
    "    metrics=['mae']\n",
    ")\n",
    "\n",
    "history = model.fit(\n",
    "    X_train, y_train,\n",
    "    validation_data=(X_test, y_test),\n",
    "    epochs=50,  \n",
    "    batch_size=32,  \n",
    "    verbose=1\n",
    ")"
   ]
  },
  {
   "cell_type": "code",
   "execution_count": 387,
   "id": "5e81140f-b601-4bce-b47f-f58370d6791f",
   "metadata": {},
   "outputs": [],
   "source": [
    "from sklearn.model_selection import train_test_split\n",
    "\n",
    "# Split data\n",
    "X_train, X_test, y_train, y_test = train_test_split(X_padded, y, test_size=0.2, random_state=42)"
   ]
  },
  {
   "cell_type": "code",
   "execution_count": 388,
   "id": "01918966-ebed-4054-957a-7a697064462d",
   "metadata": {},
   "outputs": [
    {
     "name": "stdout",
     "output_type": "stream",
     "text": [
      "\u001b[1m172/172\u001b[0m \u001b[32m━━━━━━━━━━━━━━━━━━━━\u001b[0m\u001b[37m\u001b[0m \u001b[1m0s\u001b[0m 882us/step - loss: 104.3409 - mae: 5.1469\n",
      "Test Loss: 107.09783935546875, Test MAE: 5.11920690536499\n",
      "\u001b[1m172/172\u001b[0m \u001b[32m━━━━━━━━━━━━━━━━━━━━\u001b[0m\u001b[37m\u001b[0m \u001b[1m0s\u001b[0m 1ms/step  \n"
     ]
    }
   ],
   "source": [
    "test_loss, test_mae = model.evaluate(X_test, y_test)\n",
    "print(f\"Test Loss: {test_loss}, Test MAE: {test_mae}\")\n",
    "\n",
    "# Make predictions\n",
    "predictions = model.predict(X_test)"
   ]
  },
  {
   "cell_type": "code",
   "execution_count": 389,
   "id": "15b5b611-3719-4082-b9fe-9ef62998c354",
   "metadata": {},
   "outputs": [
    {
     "name": "stdout",
     "output_type": "stream",
     "text": [
      "              Actual  Predicted     Error\n",
      "Actual                                   \n",
      "(0, 10]     5.111876  11.288827 -6.176951\n",
      "(10, 50]   29.540210  29.590929 -0.050720\n",
      "(50, 100]  68.382001  64.191223  4.190775\n"
     ]
    }
   ],
   "source": [
    "results = pd.DataFrame({'Actual': y_test, 'Predicted': predictions.flatten()})\n",
    "results['Error'] = results['Actual'] - results['Predicted']\n",
    "# Create bins and group the data\n",
    "binned_results = results.groupby(\n",
    "    pd.cut(results['Actual'], bins=[0, 10, 50, 100]), observed=False\n",
    ").mean()\n",
    "\n",
    "print(binned_results)"
   ]
  },
  {
   "cell_type": "markdown",
   "id": "2711107e-1335-41f3-a0dc-1eadc92608c8",
   "metadata": {},
   "source": [
    "#### It looks like our model is pretty good at predicting the middle of the pack but not the best at picking the top 10"
   ]
  },
  {
   "cell_type": "code",
   "execution_count": null,
   "id": "a2152c8f-46db-491a-91b3-436d0555861e",
   "metadata": {},
   "outputs": [],
   "source": []
  }
 ],
 "metadata": {
  "kernelspec": {
   "display_name": "Python (venv)",
   "language": "python",
   "name": "venv"
  },
  "language_info": {
   "codemirror_mode": {
    "name": "ipython",
    "version": 3
   },
   "file_extension": ".py",
   "mimetype": "text/x-python",
   "name": "python",
   "nbconvert_exporter": "python",
   "pygments_lexer": "ipython3",
   "version": "3.12.4"
  }
 },
 "nbformat": 4,
 "nbformat_minor": 5
}
